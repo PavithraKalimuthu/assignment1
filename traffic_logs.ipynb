{
 "cells": [
  {
   "cell_type": "code",
   "execution_count": 2,
   "id": "18971078",
   "metadata": {},
   "outputs": [
    {
     "name": "stderr",
     "output_type": "stream",
     "text": [
      "C:\\Users\\KARTHICK\\AppData\\Local\\Temp\\ipykernel_11180\\2912206040.py:4: DtypeWarning: Columns (10) have mixed types. Specify dtype option on import or set low_memory=False.\n",
      "  df=pd.read_csv(\"C:\\\\Users\\\\KARTHICK\\\\OneDrive\\\\Desktop\\\\Python projects\\\\traffic_stops - traffic_stops_with_vehicle_number.csv\")\n"
     ]
    }
   ],
   "source": [
    "import pandas as pd\n",
    "from datetime import datetime\n",
    "#Loading csv \n",
    "df=pd.read_csv(\"C:\\\\Users\\\\KARTHICK\\\\OneDrive\\\\Desktop\\\\Python projects\\\\traffic_stops - traffic_stops_with_vehicle_number.csv\")"
   ]
  },
  {
   "cell_type": "code",
   "execution_count": 2,
   "id": "8c865178",
   "metadata": {},
   "outputs": [
    {
     "data": {
      "text/html": [
       "<div>\n",
       "<style scoped>\n",
       "    .dataframe tbody tr th:only-of-type {\n",
       "        vertical-align: middle;\n",
       "    }\n",
       "\n",
       "    .dataframe tbody tr th {\n",
       "        vertical-align: top;\n",
       "    }\n",
       "\n",
       "    .dataframe thead th {\n",
       "        text-align: right;\n",
       "    }\n",
       "</style>\n",
       "<table border=\"1\" class=\"dataframe\">\n",
       "  <thead>\n",
       "    <tr style=\"text-align: right;\">\n",
       "      <th></th>\n",
       "      <th>stop_date</th>\n",
       "      <th>stop_time</th>\n",
       "      <th>country_name</th>\n",
       "      <th>driver_gender</th>\n",
       "      <th>driver_age_raw</th>\n",
       "      <th>driver_age</th>\n",
       "      <th>driver_race</th>\n",
       "      <th>violation_raw</th>\n",
       "      <th>violation</th>\n",
       "      <th>search_conducted</th>\n",
       "      <th>search_type</th>\n",
       "      <th>stop_outcome</th>\n",
       "      <th>is_arrested</th>\n",
       "      <th>stop_duration</th>\n",
       "      <th>drugs_related_stop</th>\n",
       "      <th>vehicle_number</th>\n",
       "    </tr>\n",
       "  </thead>\n",
       "  <tbody>\n",
       "    <tr>\n",
       "      <th>0</th>\n",
       "      <td>2020-01-01</td>\n",
       "      <td>0:00:00</td>\n",
       "      <td>Canada</td>\n",
       "      <td>M</td>\n",
       "      <td>59</td>\n",
       "      <td>19</td>\n",
       "      <td>Asian</td>\n",
       "      <td>Drunk Driving</td>\n",
       "      <td>Speeding</td>\n",
       "      <td>True</td>\n",
       "      <td>Vehicle Search</td>\n",
       "      <td>Ticket</td>\n",
       "      <td>True</td>\n",
       "      <td>16-30 Min</td>\n",
       "      <td>True</td>\n",
       "      <td>UP76DY3473</td>\n",
       "    </tr>\n",
       "    <tr>\n",
       "      <th>1</th>\n",
       "      <td>2020-01-01</td>\n",
       "      <td>0:01:00</td>\n",
       "      <td>India</td>\n",
       "      <td>M</td>\n",
       "      <td>35</td>\n",
       "      <td>58</td>\n",
       "      <td>Other</td>\n",
       "      <td>Other</td>\n",
       "      <td>Other</td>\n",
       "      <td>False</td>\n",
       "      <td>Vehicle Search</td>\n",
       "      <td>Arrest</td>\n",
       "      <td>True</td>\n",
       "      <td>16-30 Min</td>\n",
       "      <td>True</td>\n",
       "      <td>RJ83PZ4441</td>\n",
       "    </tr>\n",
       "    <tr>\n",
       "      <th>2</th>\n",
       "      <td>2020-01-01</td>\n",
       "      <td>0:02:00</td>\n",
       "      <td>USA</td>\n",
       "      <td>M</td>\n",
       "      <td>26</td>\n",
       "      <td>76</td>\n",
       "      <td>Black</td>\n",
       "      <td>Signal Violation</td>\n",
       "      <td>Speeding</td>\n",
       "      <td>False</td>\n",
       "      <td>Frisk</td>\n",
       "      <td>Ticket</td>\n",
       "      <td>True</td>\n",
       "      <td>16-30 Min</td>\n",
       "      <td>True</td>\n",
       "      <td>RJ32OM7264</td>\n",
       "    </tr>\n",
       "    <tr>\n",
       "      <th>3</th>\n",
       "      <td>2020-01-01</td>\n",
       "      <td>0:03:00</td>\n",
       "      <td>Canada</td>\n",
       "      <td>M</td>\n",
       "      <td>26</td>\n",
       "      <td>76</td>\n",
       "      <td>Black</td>\n",
       "      <td>Speeding</td>\n",
       "      <td>DUI</td>\n",
       "      <td>True</td>\n",
       "      <td>Frisk</td>\n",
       "      <td>Warning</td>\n",
       "      <td>False</td>\n",
       "      <td>0-15 Min</td>\n",
       "      <td>True</td>\n",
       "      <td>RJ76TI3807</td>\n",
       "    </tr>\n",
       "    <tr>\n",
       "      <th>4</th>\n",
       "      <td>2020-01-01</td>\n",
       "      <td>0:04:00</td>\n",
       "      <td>Canada</td>\n",
       "      <td>M</td>\n",
       "      <td>62</td>\n",
       "      <td>75</td>\n",
       "      <td>Other</td>\n",
       "      <td>Speeding</td>\n",
       "      <td>Other</td>\n",
       "      <td>False</td>\n",
       "      <td>Vehicle Search</td>\n",
       "      <td>Arrest</td>\n",
       "      <td>True</td>\n",
       "      <td>16-30 Min</td>\n",
       "      <td>False</td>\n",
       "      <td>WB63BB8305</td>\n",
       "    </tr>\n",
       "  </tbody>\n",
       "</table>\n",
       "</div>"
      ],
      "text/plain": [
       "    stop_date stop_time country_name driver_gender  driver_age_raw  \\\n",
       "0  2020-01-01   0:00:00       Canada             M              59   \n",
       "1  2020-01-01   0:01:00        India             M              35   \n",
       "2  2020-01-01   0:02:00          USA             M              26   \n",
       "3  2020-01-01   0:03:00       Canada             M              26   \n",
       "4  2020-01-01   0:04:00       Canada             M              62   \n",
       "\n",
       "   driver_age driver_race     violation_raw violation  search_conducted  \\\n",
       "0          19       Asian     Drunk Driving  Speeding              True   \n",
       "1          58       Other             Other     Other             False   \n",
       "2          76       Black  Signal Violation  Speeding             False   \n",
       "3          76       Black          Speeding       DUI              True   \n",
       "4          75       Other          Speeding     Other             False   \n",
       "\n",
       "      search_type stop_outcome  is_arrested stop_duration  drugs_related_stop  \\\n",
       "0  Vehicle Search       Ticket         True     16-30 Min                True   \n",
       "1  Vehicle Search       Arrest         True     16-30 Min                True   \n",
       "2           Frisk       Ticket         True     16-30 Min                True   \n",
       "3           Frisk      Warning        False      0-15 Min                True   \n",
       "4  Vehicle Search       Arrest         True     16-30 Min               False   \n",
       "\n",
       "  vehicle_number  \n",
       "0     UP76DY3473  \n",
       "1     RJ83PZ4441  \n",
       "2     RJ32OM7264  \n",
       "3     RJ76TI3807  \n",
       "4     WB63BB8305  "
      ]
     },
     "execution_count": 2,
     "metadata": {},
     "output_type": "execute_result"
    }
   ],
   "source": [
    "df.head(5)"
   ]
  },
  {
   "cell_type": "code",
   "execution_count": 7,
   "id": "37818b2f",
   "metadata": {},
   "outputs": [
    {
     "data": {
      "text/html": [
       "<div>\n",
       "<style scoped>\n",
       "    .dataframe tbody tr th:only-of-type {\n",
       "        vertical-align: middle;\n",
       "    }\n",
       "\n",
       "    .dataframe tbody tr th {\n",
       "        vertical-align: top;\n",
       "    }\n",
       "\n",
       "    .dataframe thead th {\n",
       "        text-align: right;\n",
       "    }\n",
       "</style>\n",
       "<table border=\"1\" class=\"dataframe\">\n",
       "  <thead>\n",
       "    <tr style=\"text-align: right;\">\n",
       "      <th></th>\n",
       "      <th>stop_date</th>\n",
       "      <th>stop_time</th>\n",
       "      <th>country_name</th>\n",
       "      <th>driver_gender</th>\n",
       "      <th>driver_age_raw</th>\n",
       "      <th>driver_age</th>\n",
       "      <th>driver_race</th>\n",
       "      <th>violation_raw</th>\n",
       "      <th>violation</th>\n",
       "      <th>search_conducted</th>\n",
       "      <th>search_type</th>\n",
       "      <th>stop_outcome</th>\n",
       "      <th>is_arrested</th>\n",
       "      <th>stop_duration</th>\n",
       "      <th>drugs_related_stop</th>\n",
       "      <th>vehicle_number</th>\n",
       "    </tr>\n",
       "  </thead>\n",
       "  <tbody>\n",
       "  </tbody>\n",
       "</table>\n",
       "</div>"
      ],
      "text/plain": [
       "Empty DataFrame\n",
       "Columns: [stop_date, stop_time, country_name, driver_gender, driver_age_raw, driver_age, driver_race, violation_raw, violation, search_conducted, search_type, stop_outcome, is_arrested, stop_duration, drugs_related_stop, vehicle_number]\n",
       "Index: []"
      ]
     },
     "execution_count": 7,
     "metadata": {},
     "output_type": "execute_result"
    }
   ],
   "source": [
    "# checking for dupliactes(row)\n",
    "duplicates = df[df.duplicated()]\n",
    "duplicates"
   ]
  },
  {
   "cell_type": "code",
   "execution_count": 8,
   "id": "5f9e2855",
   "metadata": {},
   "outputs": [
    {
     "data": {
      "text/html": [
       "<div>\n",
       "<style scoped>\n",
       "    .dataframe tbody tr th:only-of-type {\n",
       "        vertical-align: middle;\n",
       "    }\n",
       "\n",
       "    .dataframe tbody tr th {\n",
       "        vertical-align: top;\n",
       "    }\n",
       "\n",
       "    .dataframe thead th {\n",
       "        text-align: right;\n",
       "    }\n",
       "</style>\n",
       "<table border=\"1\" class=\"dataframe\">\n",
       "  <thead>\n",
       "    <tr style=\"text-align: right;\">\n",
       "      <th></th>\n",
       "      <th>stop_date</th>\n",
       "      <th>stop_time</th>\n",
       "      <th>country_name</th>\n",
       "      <th>driver_gender</th>\n",
       "      <th>driver_age_raw</th>\n",
       "      <th>driver_age</th>\n",
       "      <th>driver_race</th>\n",
       "      <th>violation_raw</th>\n",
       "      <th>violation</th>\n",
       "      <th>search_conducted</th>\n",
       "      <th>search_type</th>\n",
       "      <th>stop_outcome</th>\n",
       "      <th>is_arrested</th>\n",
       "      <th>stop_duration</th>\n",
       "      <th>drugs_related_stop</th>\n",
       "      <th>vehicle_number</th>\n",
       "    </tr>\n",
       "  </thead>\n",
       "  <tbody>\n",
       "  </tbody>\n",
       "</table>\n",
       "</div>"
      ],
      "text/plain": [
       "Empty DataFrame\n",
       "Columns: [stop_date, stop_time, country_name, driver_gender, driver_age_raw, driver_age, driver_race, violation_raw, violation, search_conducted, search_type, stop_outcome, is_arrested, stop_duration, drugs_related_stop, vehicle_number]\n",
       "Index: []"
      ]
     },
     "execution_count": 8,
     "metadata": {},
     "output_type": "execute_result"
    }
   ],
   "source": [
    "all_duplicates = df[df.duplicated(keep=False)]\n",
    "all_duplicates"
   ]
  },
  {
   "cell_type": "code",
   "execution_count": 9,
   "id": "e42a4dfb",
   "metadata": {},
   "outputs": [
    {
     "name": "stdout",
     "output_type": "stream",
     "text": [
      "stop_date                 0\n",
      "stop_time                 0\n",
      "country_name              0\n",
      "driver_gender             0\n",
      "driver_age_raw            0\n",
      "driver_age                0\n",
      "driver_race               0\n",
      "violation_raw             0\n",
      "violation                 0\n",
      "search_conducted          0\n",
      "search_type           21720\n",
      "stop_outcome              0\n",
      "is_arrested               0\n",
      "stop_duration             0\n",
      "drugs_related_stop        0\n",
      "vehicle_number            0\n",
      "dtype: int64\n"
     ]
    }
   ],
   "source": [
    "#count of missing values in each column:\n",
    "print(df.isna().sum())"
   ]
  },
  {
   "cell_type": "code",
   "execution_count": 10,
   "id": "8b845e66",
   "metadata": {},
   "outputs": [],
   "source": [
    "#as only search_type column only as null values,filling it as missing\n",
    "df.fillna('data missing',inplace=True)"
   ]
  },
  {
   "cell_type": "code",
   "execution_count": 11,
   "id": "9dae284f",
   "metadata": {},
   "outputs": [],
   "source": [
    "#dropping unwanted columns(data before cleaning):\n",
    "df.drop([\"driver_age_raw\",\"violation_raw\" ], axis=1, inplace=True)"
   ]
  },
  {
   "cell_type": "code",
   "execution_count": 6,
   "id": "076927fd",
   "metadata": {},
   "outputs": [
    {
     "name": "stdout",
     "output_type": "stream",
     "text": [
      "stop_date             0\n",
      "stop_time             0\n",
      "country_name          0\n",
      "driver_gender         0\n",
      "driver_age            0\n",
      "driver_race           0\n",
      "violation             0\n",
      "search_conducted      0\n",
      "search_type           0\n",
      "stop_outcome          0\n",
      "is_arrested           0\n",
      "stop_duration         0\n",
      "drugs_related_stop    0\n",
      "vehicle_number        0\n",
      "dtype: int64\n"
     ]
    }
   ],
   "source": [
    "print(df.isna().sum())"
   ]
  },
  {
   "cell_type": "code",
   "execution_count": 21,
   "id": "1c899410",
   "metadata": {},
   "outputs": [],
   "source": [
    "#saving a copy of cleaned data:\n",
    "df.to_csv('cleaned_data.csv', index=False)"
   ]
  },
  {
   "cell_type": "code",
   "execution_count": 22,
   "id": "595e28ef",
   "metadata": {},
   "outputs": [],
   "source": [
    "df=pd.read_csv(\"cleaned_data.csv\")"
   ]
  },
  {
   "cell_type": "code",
   "execution_count": 23,
   "id": "b2e78795",
   "metadata": {},
   "outputs": [],
   "source": [
    "#changing date and time to timestamp:\n",
    "df['time_stamp']=pd.to_datetime(df['stop_date']+' '+df['stop_time'], errors='coerce')\n",
    "df['stop_date'] = pd.to_datetime(df['stop_date'], format='%Y-%m-%d', errors='coerce')\n",
    "df['stop_time'] = pd.to_datetime(df['stop_time'], format='%H:%M:%S', errors='coerce').dt.time"
   ]
  },
  {
   "cell_type": "code",
   "execution_count": 24,
   "id": "3cc4d528",
   "metadata": {},
   "outputs": [
    {
     "name": "stdout",
     "output_type": "stream",
     "text": [
      "<class 'pandas.core.frame.DataFrame'>\n",
      "RangeIndex: 65538 entries, 0 to 65537\n",
      "Data columns (total 15 columns):\n",
      " #   Column              Non-Null Count  Dtype         \n",
      "---  ------              --------------  -----         \n",
      " 0   stop_date           65538 non-null  datetime64[ns]\n",
      " 1   stop_time           65538 non-null  object        \n",
      " 2   country_name        65538 non-null  object        \n",
      " 3   driver_gender       65538 non-null  object        \n",
      " 4   driver_age          65538 non-null  int64         \n",
      " 5   driver_race         65538 non-null  object        \n",
      " 6   violation           65538 non-null  object        \n",
      " 7   search_conducted    65538 non-null  bool          \n",
      " 8   search_type         65538 non-null  object        \n",
      " 9   stop_outcome        65538 non-null  object        \n",
      " 10  is_arrested         65538 non-null  bool          \n",
      " 11  stop_duration       65538 non-null  object        \n",
      " 12  drugs_related_stop  65538 non-null  bool          \n",
      " 13  vehicle_number      65538 non-null  object        \n",
      " 14  time_stamp          65538 non-null  datetime64[ns]\n",
      "dtypes: bool(3), datetime64[ns](2), int64(1), object(9)\n",
      "memory usage: 6.2+ MB\n"
     ]
    }
   ],
   "source": [
    "df.info()"
   ]
  },
  {
   "cell_type": "code",
   "execution_count": 11,
   "id": "bf478e9f",
   "metadata": {},
   "outputs": [],
   "source": [
    "#creating database named Policelogs:\n",
    "import psycopg2\n",
    "from psycopg2.extensions import ISOLATION_LEVEL_AUTOCOMMIT\n",
    "\n",
    "connection = psycopg2.connect(\n",
    "    host=\"localhost\",\n",
    "    user=\"postgres\",\n",
    "    password=\"Apple123\",\n",
    "    port = 5432\n",
    ")\n",
    "\n",
    "connection.set_isolation_level(ISOLATION_LEVEL_AUTOCOMMIT)\n",
    "\n",
    "writer = connection.cursor()\n",
    "\n",
    "writer.execute(\"create database Policelogs\") "
   ]
  },
  {
   "cell_type": "code",
   "execution_count": 26,
   "id": "c2eecb9f",
   "metadata": {},
   "outputs": [
    {
     "name": "stdout",
     "output_type": "stream",
     "text": [
      "Data successfully pushed to PostgreSQL table!\n"
     ]
    }
   ],
   "source": [
    "#pushing database to postgres using SQLalchemy:\n",
    "from sqlalchemy import create_engine,TIMESTAMP, Date, Time, String, Boolean, Integer\n",
    "\n",
    "\n",
    "host = \"localhost\"\n",
    "port = \"5432\"  \n",
    "database = \"policelogs\"\n",
    "username = \"postgres\"\n",
    "password = \"Apple123\"\n",
    "\n",
    "engine_string = f\"postgresql://{username}:{password}@{host}:{port}/{database}\"\n",
    "\n",
    "engine = create_engine(engine_string)\n",
    "\n",
    "df = pd.read_csv(\"cleaned_data.csv\")\n",
    "dtype_map = {\n",
    "    'stop_date': Date(),\n",
    "    'stop_time': Time(),\n",
    "    'country_name': String(),\n",
    "    'driver_gender': String(),\n",
    "    'driver_age': Integer(),\n",
    "    'driver_race': String(),\n",
    "    'violation': String(),\n",
    "    'search_conducted': Boolean(),\n",
    "    'search_type': String(),\n",
    "    'stop_outcome': String(),\n",
    "    'is_arrested': Boolean(),\n",
    "    'stop_duration': String(),\n",
    "    'drugs_related_stop': Boolean(),\n",
    "    'vehicle_number': String(),\n",
    "    'time_stamp': TIMESTAMP()\n",
    "   \n",
    "}\n",
    "\n",
    "table_name = \"traffic_logs\"\n",
    "\n",
    "\n",
    "df.to_sql(table_name, engine,if_exists='replace', index=False,dtype=dtype_map)  \n",
    "print(\"Data successfully pushed to PostgreSQL table!\")#for crosschecking"
   ]
  }
 ],
 "metadata": {
  "kernelspec": {
   "display_name": ".venv",
   "language": "python",
   "name": "python3"
  },
  "language_info": {
   "codemirror_mode": {
    "name": "ipython",
    "version": 3
   },
   "file_extension": ".py",
   "mimetype": "text/x-python",
   "name": "python",
   "nbconvert_exporter": "python",
   "pygments_lexer": "ipython3",
   "version": "3.13.3"
  }
 },
 "nbformat": 4,
 "nbformat_minor": 5
}
